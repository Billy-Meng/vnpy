{
 "cells": [
  {
   "cell_type": "code",
   "execution_count": 2,
   "metadata": {},
   "outputs": [],
   "source": [
    "from vnpy.trader.utility import load_json, save_json\n",
    "# 更新配置文件数据库名称\n",
    "database_name = \"RQDATA.db\"\n",
    "\n",
    "setting = load_json(\"vt_setting.json\")\n",
    "setting.update({\"database.database\": database_name})\n",
    "save_json(\"vt_setting.json\", setting)"
   ]
  },
  {
   "cell_type": "code",
   "execution_count": 4,
   "metadata": {
    "tags": []
   },
   "outputs": [
    {
     "output_type": "stream",
     "name": "stderr",
     "text": "在使用天勤量化之前，默认您已经知晓并同意以下免责条款，如果不同意请立即停止使用：https://www.shinnytech.com/blog/disclaimer/\n"
    }
   ],
   "source": [
    "from vnpy.trader.engine import MainEngine, EventEngine\n",
    "from vnpy.app.data_manager.engine import ManagerEngine\n",
    "\n",
    "manager = ManagerEngine(MainEngine, EventEngine)"
   ]
  },
  {
   "cell_type": "code",
   "execution_count": 8,
   "metadata": {},
   "outputs": [
    {
     "output_type": "execute_result",
     "data": {
      "text/plain": "(datetime.datetime(2010, 1, 4, 9, 0),\n datetime.datetime(2020, 5, 29, 22, 59),\n 753000)"
     },
     "metadata": {},
     "execution_count": 8
    }
   ],
   "source": [
    "# 将CSV行情数据导入数据库\n",
    "manager.import_data_from_csv(\n",
    "        file_path = \"rb888_SHFE.csv\",\n",
    "        symbol    = \"rb888\",\n",
    "        exchange  = \"SHFE\",\n",
    "        interval  = \"1m\",\n",
    "        datetime_head = \"datetime\",\n",
    "        open_head   = \"open\",\n",
    "        high_head   = \"high\",\n",
    "        low_head    = \"low\",\n",
    "        close_head  = \"close\",\n",
    "        volume_head = \"volume\",\n",
    "        open_interest_head = \"open_interest\",\n",
    "        datetime_format    = \"%Y-%m-%d %H:%M:%S\"\n",
    "    )"
   ]
  },
  {
   "cell_type": "code",
   "execution_count": 4,
   "metadata": {
    "tags": []
   },
   "outputs": [
    {
     "output_type": "stream",
     "name": "stdout",
     "text": "auth success \nA9999 新下载更新Bar数量：2\nAG9999 新下载更新Bar数量：2\nAL9999 新下载更新Bar数量：2\nAP9999 新下载更新Bar数量：2\nAU9999 新下载更新Bar数量：2\nB9999 新下载更新Bar数量：2\nBB9999 新下载更新Bar数量：2\nBU9999 新下载更新Bar数量：2\nC9999 新下载更新Bar数量：2\nCF9999 新下载更新Bar数量：2\nCJ9999 新下载更新Bar数量：2\nCS9999 新下载更新Bar数量：2\nCU9999 新下载更新Bar数量：2\nEB9999 新下载更新Bar数量：2\nEG9999 新下载更新Bar数量：2\nFB9999 新下载更新Bar数量：2\nFG9999 新下载更新Bar数量：2\nFU9999 新下载更新Bar数量：2\nHC9999 新下载更新Bar数量：2\nI9999 新下载更新Bar数量：2\nIC8888 新下载更新Bar数量：2\nIC9999 新下载更新Bar数量：2\nIF8888 新下载更新Bar数量：2\nIF9999 新下载更新Bar数量：2\nIH8888 新下载更新Bar数量：2\nIH9999 新下载更新Bar数量：2\nJ9999 新下载更新Bar数量：2\nJD9999 新下载更新Bar数量：2\nJM9999 新下载更新Bar数量：2\nL9999 新下载更新Bar数量：2\nM9999 新下载更新Bar数量：2\nMA9999 新下载更新Bar数量：2\nNI9999 新下载更新Bar数量：2\nNR9999 新下载更新Bar数量：2\nOI9999 新下载更新Bar数量：2\nP9999 新下载更新Bar数量：2\nPB9999 新下载更新Bar数量：2\nPG9999 新下载更新Bar数量：2\nPP9999 新下载更新Bar数量：2\nRB9999 新下载更新Bar数量：2\nRM9999 新下载更新Bar数量：2\nRU9999 新下载更新Bar数量：2\nSA9999 新下载更新Bar数量：2\nSC9999 新下载更新Bar数量：2\nSF9999 新下载更新Bar数量：2\nSM9999 新下载更新Bar数量：2\nSP9999 新下载更新Bar数量：2\nSR9999 新下载更新Bar数量：2\nSS9999 新下载更新Bar数量：2\nT9999 新下载更新Bar数量：2\nTA9999 新下载更新Bar数量：2\nTF9999 新下载更新Bar数量：2\nTS9999 新下载更新Bar数量：2\nUR9999 新下载更新Bar数量：2\nV9999 新下载更新Bar数量：2\nWR9999 新下载更新Bar数量：2\nY9999 新下载更新Bar数量：2\nZC9999 新下载更新Bar数量：2\nZN9999 新下载更新Bar数量：2\nc9999 新下载更新Bar数量：2\nm9999 新下载更新Bar数量：2\np9999 新下载更新Bar数量：2\n"
    }
   ],
   "source": [
    "from vnpy.trader.constant import Interval, Exchange\n",
    "\n",
    "# 获取数据库中所有品种的Bar数据统计信息，包括字段：symbol，exchange，interval，count，start，end\n",
    "bar_data_statistics = manager.get_bar_data_available()\n",
    "\n",
    "# 从数据接口下载更新数据库中所有品种的Bar数据至最新\n",
    "for d in bar_data_statistics:\n",
    "    num = manager.download_bar_data_from_datasource(d[\"symbol\"], Exchange(d[\"exchange\"]), Interval(d[\"interval\"]), d[\"end\"])\n",
    "    print(f'{d[\"symbol\"]} \\t新下载更新Bar数量：{num}')"
   ]
  },
  {
   "cell_type": "code",
   "execution_count": 7,
   "metadata": {},
   "outputs": [],
   "source": [
    "# 保存数据库中的所有品种的 vt_symbol 至当前工作目录\n",
    "with open(\"vt_symbol.txt\", \"w\") as f:\n",
    "    for d in bar_data_statistics:\n",
    "        vt_symbol = d[\"symbol\"] + \".\" + d[\"exchange\"]\n",
    "        f.write(f\"{vt_symbol}\\n\")"
   ]
  },
  {
   "cell_type": "code",
   "execution_count": null,
   "metadata": {},
   "outputs": [],
   "source": []
  }
 ],
 "metadata": {
  "language_info": {
   "codemirror_mode": {
    "name": "ipython",
    "version": 3
   },
   "file_extension": ".py",
   "mimetype": "text/x-python",
   "name": "python",
   "nbconvert_exporter": "python",
   "pygments_lexer": "ipython3",
   "version": "3.7.6-final"
  },
  "orig_nbformat": 2,
  "kernelspec": {
   "name": "python3",
   "display_name": "Python 3"
  }
 },
 "nbformat": 4,
 "nbformat_minor": 2
}