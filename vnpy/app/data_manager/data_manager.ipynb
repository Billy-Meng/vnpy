{
 "cells": [
  {
   "cell_type": "code",
   "execution_count": 1,
   "metadata": {},
   "outputs": [],
   "source": [
    "from vnpy.trader.utility import load_json, save_json\n",
    "# 更新配置文件数据库名称\n",
    "database_name = \"TBDATA.db\"\n",
    "\n",
    "setting = load_json(\"vt_setting.json\")\n",
    "setting.update({\"database.database\": database_name})\n",
    "save_json(\"vt_setting.json\", setting)"
   ]
  },
  {
   "cell_type": "code",
   "execution_count": 2,
   "metadata": {
    "tags": []
   },
   "outputs": [
    {
     "output_type": "stream",
     "name": "stdout",
     "text": "提示：当前环境pandas版本为0.25，get_price与get_fundamentals_continuously接口panel参数将固定为False\n注意：0.25以上版本pandas不支持panel，如使用该数据结构和相关函数请注意修改\n在使用天勤量化之前，默认您已经知晓并同意以下免责条款，如果不同意请立即停止使用：https://www.shinnytech.com/blog/disclaimer/\n"
    }
   ],
   "source": [
    "from vnpy.trader.engine import MainEngine, EventEngine\n",
    "from vnpy.app.data_manager.engine import ManagerEngine\n",
    "\n",
    "manager = ManagerEngine(MainEngine, EventEngine)"
   ]
  },
  {
   "cell_type": "code",
   "execution_count": 6,
   "metadata": {},
   "outputs": [
    {
     "output_type": "execute_result",
     "data": {
      "text/plain": "(datetime.datetime(2010, 1, 4, 9, 0),\n datetime.datetime(2020, 7, 6, 13, 52),\n 759616)"
     },
     "metadata": {},
     "execution_count": 6
    }
   ],
   "source": [
    "# 将CSV行情数据导入数据库\n",
    "manager.import_data_from_csv(\n",
    "        file_path = \"rb888.csv\",\n",
    "        symbol    = \"rb888\",\n",
    "        exchange  = \"SHFE\",\n",
    "        interval  = \"1m\",\n",
    "        datetime_head = \"//时间\",\n",
    "        open_head   = \"开盘价\",\n",
    "        high_head   = \"最高价\",\n",
    "        low_head    = \"最低价\",\n",
    "        close_head  = \"收盘价\",\n",
    "        volume_head = \"成交量\",\n",
    "        open_interest_head = \"持仓量\",\n",
    "        datetime_format    = \"%Y/%m/%d %H:%M\"\n",
    "    )"
   ]
  },
  {
   "cell_type": "code",
   "execution_count": 16,
   "metadata": {
    "tags": []
   },
   "outputs": [
    {
     "output_type": "stream",
     "name": "stdout",
     "text": "0\t2018-09-13 22:00:00+08:00\n10000\t2018-09-25 06:26:00+08:00\n20000\t2018-10-04 15:42:00+08:00\n30000\t2018-10-16 03:03:00+08:00\n40000\t2018-10-25 15:50:00+08:00\n50000\t2018-11-06 06:56:00+08:00\n60000\t2018-11-16 00:13:00+08:00\n70000\t2018-11-27 14:21:00+08:00\n80000\t2018-12-06 21:04:00+08:00\n90000\t2018-12-18 04:27:00+08:00\n100000\t2018-12-28 13:53:00+08:00\n110000\t2019-01-09 20:09:00+08:00\n120000\t2019-01-21 03:21:00+08:00\n130000\t2019-01-30 13:37:00+08:00\n140000\t2019-02-08 19:57:00+08:00\n150000\t2019-02-20 07:34:00+08:00\n160000\t2019-03-01 15:30:00+08:00\n170000\t2019-03-12 20:43:00+08:00\n180000\t2019-03-22 04:55:00+08:00\n190000\t2019-06-27 19:11:00+08:00\n200000\t2019-07-09 06:31:00+08:00\n210000\t2019-07-18 12:37:00+08:00\n220000\t2019-07-29 18:32:00+08:00\n230000\t2019-08-08 01:21:00+08:00\n240000\t2019-08-19 07:15:00+08:00\n250000\t2019-08-28 13:17:00+08:00\n260000\t2019-09-09 00:07:00+08:00\n270000\t2019-09-18 05:55:00+08:00\n280000\t2019-09-27 11:40:00+08:00\n290000\t2019-10-08 17:34:00+08:00\n300000\t2019-10-18 00:22:00+08:00\n310000\t2019-10-29 06:21:00+08:00\n320000\t2019-11-07 13:07:00+08:00\n330000\t2019-11-18 19:00:00+08:00\n340000\t2019-11-28 01:47:00+08:00\n350000\t2019-12-09 15:02:00+08:00\n360000\t2019-12-18 20:58:00+08:00\n370000\t2019-12-31 08:02:00+08:00\n380000\t2020-01-10 14:16:00+08:00\n390000\t2020-01-22 01:31:00+08:00\n400000\t2020-01-31 07:51:00+08:00\n410000\t2020-02-11 13:59:00+08:00\n420000\t2020-02-21 01:22:00+08:00\n430000\t2020-03-03 07:59:00+08:00\n440000\t2020-03-12 12:48:00+08:00\n450000\t2020-03-23 18:41:00+08:00\n460000\t2020-04-02 01:32:00+08:00\n470000\t2020-04-14 07:55:00+08:00\n480000\t2020-04-23 13:55:00+08:00\n490000\t2020-05-04 20:12:00+08:00\n500000\t2020-05-14 03:41:00+08:00\n510000\t2020-05-25 09:49:00+08:00\n520000\t2020-06-03 19:48:00+08:00\n530000\t2020-06-15 03:14:00+08:00\n540000\t2020-06-24 09:31:00+08:00\n550000\t2020-07-03 15:51:00+08:00\n560000\t2020-07-15 03:06:00+08:00\n570000\t2020-07-24 08:56:00+08:00\n开始保存Bar数据至数据库\n数据保存完毕！\n"
    }
   ],
   "source": [
    "# 将MT5下载的外汇CSV行情数据导入数据库\n",
    "import pandas as pd\n",
    "from pytz import timezone\n",
    "from vnpy.trader.object import BarData\n",
    "from vnpy.trader.database import database_manager\n",
    "\n",
    "CHINA_TZ = timezone(\"Asia/Shanghai\")\n",
    "\n",
    "file_path = \"XAGUSD_M1_201809132200_202007271053.csv\"\n",
    "vt_symbol = \"XAGUSD.OTC\"\n",
    "\n",
    "data = pd.read_csv(file_path, delimiter=\"\\t\")\n",
    "data[\"datetime\"] = pd.to_datetime(data[\"<DATE>\"] + \" \" + data[\"<TIME>\"])\n",
    "\n",
    "bars = []\n",
    "symbol = vt_symbol.split(\".\")[0]\n",
    "exchange = vt_symbol.split(\".\")[1]\n",
    "\n",
    "for ix, row in data[:-1].iterrows():\n",
    "\n",
    "    dt = CHINA_TZ.localize(row.datetime.to_pydatetime().replace(tzinfo=None))\n",
    "\n",
    "    bar = BarData(\n",
    "        symbol = symbol,\n",
    "        exchange = exchange,\n",
    "        datetime = dt,\n",
    "        interval = \"1m\",\n",
    "        open_price = row[\"<OPEN>\"],\n",
    "        high_price = row[\"<HIGH>\"],\n",
    "        low_price = row[\"<LOW>\"],\n",
    "        close_price = row[\"<CLOSE>\"],\n",
    "        volume = row[\"<TICKVOL>\"],\n",
    "        open_interest = 0,\n",
    "        gateway_name = \"DB\",\n",
    "    )\n",
    "\n",
    "    bars.append(bar)\n",
    "\n",
    "    if not ix % 10000:\n",
    "        print(f\"{ix}\\t{dt}\")\n",
    "\n",
    "# 将数据存入数据库\n",
    "print(\"开始保存Bar数据至数据库\")\n",
    "database_manager.save_bar_data(bars)\n",
    "print(\"数据保存完毕！\")"
   ]
  },
  {
   "cell_type": "code",
   "execution_count": null,
   "metadata": {},
   "outputs": [],
   "source": []
  },
  {
   "cell_type": "code",
   "execution_count": 4,
   "metadata": {
    "tags": []
   },
   "outputs": [
    {
     "output_type": "stream",
     "name": "stdout",
     "text": "auth success \nA9999 新下载更新Bar数量：2\nAG9999 新下载更新Bar数量：2\nAL9999 新下载更新Bar数量：2\nAP9999 新下载更新Bar数量：2\nAU9999 新下载更新Bar数量：2\nB9999 新下载更新Bar数量：2\nBB9999 新下载更新Bar数量：2\nBU9999 新下载更新Bar数量：2\nC9999 新下载更新Bar数量：2\nCF9999 新下载更新Bar数量：2\nCJ9999 新下载更新Bar数量：2\nCS9999 新下载更新Bar数量：2\nCU9999 新下载更新Bar数量：2\nEB9999 新下载更新Bar数量：2\nEG9999 新下载更新Bar数量：2\nFB9999 新下载更新Bar数量：2\nFG9999 新下载更新Bar数量：2\nFU9999 新下载更新Bar数量：2\nHC9999 新下载更新Bar数量：2\nI9999 新下载更新Bar数量：2\nIC8888 新下载更新Bar数量：2\nIC9999 新下载更新Bar数量：2\nIF8888 新下载更新Bar数量：2\nIF9999 新下载更新Bar数量：2\nIH8888 新下载更新Bar数量：2\nIH9999 新下载更新Bar数量：2\nJ9999 新下载更新Bar数量：2\nJD9999 新下载更新Bar数量：2\nJM9999 新下载更新Bar数量：2\nL9999 新下载更新Bar数量：2\nM9999 新下载更新Bar数量：2\nMA9999 新下载更新Bar数量：2\nNI9999 新下载更新Bar数量：2\nNR9999 新下载更新Bar数量：2\nOI9999 新下载更新Bar数量：2\nP9999 新下载更新Bar数量：2\nPB9999 新下载更新Bar数量：2\nPG9999 新下载更新Bar数量：2\nPP9999 新下载更新Bar数量：2\nRB9999 新下载更新Bar数量：2\nRM9999 新下载更新Bar数量：2\nRU9999 新下载更新Bar数量：2\nSA9999 新下载更新Bar数量：2\nSC9999 新下载更新Bar数量：2\nSF9999 新下载更新Bar数量：2\nSM9999 新下载更新Bar数量：2\nSP9999 新下载更新Bar数量：2\nSR9999 新下载更新Bar数量：2\nSS9999 新下载更新Bar数量：2\nT9999 新下载更新Bar数量：2\nTA9999 新下载更新Bar数量：2\nTF9999 新下载更新Bar数量：2\nTS9999 新下载更新Bar数量：2\nUR9999 新下载更新Bar数量：2\nV9999 新下载更新Bar数量：2\nWR9999 新下载更新Bar数量：2\nY9999 新下载更新Bar数量：2\nZC9999 新下载更新Bar数量：2\nZN9999 新下载更新Bar数量：2\nc9999 新下载更新Bar数量：2\nm9999 新下载更新Bar数量：2\np9999 新下载更新Bar数量：2\n"
    }
   ],
   "source": [
    "from vnpy.trader.constant import Interval, Exchange\n",
    "\n",
    "# 获取数据库中所有品种的Bar数据统计信息，包括字段：symbol，exchange，interval，count，start，end\n",
    "bar_data_statistics = manager.get_bar_data_available()\n",
    "\n",
    "# 从数据接口下载更新数据库中所有品种的Bar数据至最新\n",
    "for d in bar_data_statistics:\n",
    "    num = manager.download_bar_data_from_datasource(d[\"symbol\"], Exchange(d[\"exchange\"]), Interval(d[\"interval\"]), d[\"end\"])\n",
    "    print(f'{d[\"symbol\"]} \\t新下载更新Bar数量：{num}')"
   ]
  },
  {
   "cell_type": "code",
   "execution_count": 7,
   "metadata": {},
   "outputs": [],
   "source": [
    "# 保存数据库中的所有品种的 vt_symbol 至当前工作目录\n",
    "with open(\"vt_symbol.txt\", \"w\") as f:\n",
    "    for d in bar_data_statistics:\n",
    "        vt_symbol = d[\"symbol\"] + \".\" + d[\"exchange\"]\n",
    "        f.write(f\"{vt_symbol}\\n\")"
   ]
  },
  {
   "cell_type": "code",
   "execution_count": null,
   "metadata": {},
   "outputs": [],
   "source": []
  }
 ],
 "metadata": {
  "language_info": {
   "codemirror_mode": {
    "name": "ipython",
    "version": 3
   },
   "file_extension": ".py",
   "mimetype": "text/x-python",
   "name": "python",
   "nbconvert_exporter": "python",
   "pygments_lexer": "ipython3",
   "version": "3.7.6-final"
  },
  "orig_nbformat": 2,
  "kernelspec": {
   "name": "python3",
   "display_name": "Python 3"
  }
 },
 "nbformat": 4,
 "nbformat_minor": 2
}