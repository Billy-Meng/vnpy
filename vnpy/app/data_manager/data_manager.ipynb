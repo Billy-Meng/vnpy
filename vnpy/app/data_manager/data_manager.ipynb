{
 "cells": [
  {
   "cell_type": "code",
   "execution_count": 1,
   "metadata": {},
   "outputs": [],
   "source": [
    "from vnpy.trader.setting import SETTINGS\n",
    "from vnpy.trader.utility import load_json, save_json"
   ]
  },
  {
   "cell_type": "code",
   "execution_count": 2,
   "metadata": {},
   "outputs": [],
   "source": [
    "# 更新配置文件数据库名称\n",
    "database_name = \"恒生指数1分钟数据.db\"\n",
    "\n",
    "setting = load_json(\"vt_setting.json\")\n",
    "setting.update({\"database.database\": database_name})\n",
    "save_json(\"vt_setting.json\", setting)"
   ]
  },
  {
   "cell_type": "code",
   "execution_count": 3,
   "metadata": {},
   "outputs": [
    {
     "output_type": "stream",
     "name": "stderr",
     "text": "在使用天勤量化之前，默认您已经知晓并同意以下免责条款，如果不同意请立即停止使用：https://www.shinnytech.com/blog/disclaimer/\n"
    }
   ],
   "source": [
    "from vnpy.trader.engine import MainEngine, EventEngine\n",
    "from vnpy.app.data_manager.engine import ManagerEngine\n",
    "\n",
    "manager = ManagerEngine(MainEngine, EventEngine)"
   ]
  },
  {
   "cell_type": "code",
   "execution_count": 4,
   "metadata": {},
   "outputs": [
    {
     "output_type": "execute_result",
     "data": {
      "text/plain": "(datetime.datetime(2013, 1, 2, 3, 20),\n datetime.datetime(2020, 3, 31, 4, 59),\n 1230779)"
     },
     "metadata": {},
     "execution_count": 4
    }
   ],
   "source": [
    "manager.import_data_from_csv(\n",
    "        file_path = \"恒指一分钟数据.csv\",\n",
    "        symbol    = \"HZ\",\n",
    "        exchange  = \"HKEX\",\n",
    "        interval  = \"1m\",\n",
    "        datetime_head = \"datetime\",\n",
    "        open_head   = \"open_price\",\n",
    "        high_head   = \"high_price\",\n",
    "        low_head    = \"low_price\",\n",
    "        close_head  = \"close_price\",\n",
    "        volume_head = \"volume\",\n",
    "        open_interest_head = \"\",\n",
    "        datetime_format    = \"%Y-%m-%d %H:%M:%S\"\n",
    "    )"
   ]
  },
  {
   "cell_type": "code",
   "execution_count": null,
   "metadata": {},
   "outputs": [],
   "source": []
  },
  {
   "cell_type": "code",
   "execution_count": null,
   "metadata": {},
   "outputs": [],
   "source": []
  },
  {
   "cell_type": "code",
   "execution_count": null,
   "metadata": {},
   "outputs": [],
   "source": []
  }
 ],
 "metadata": {
  "language_info": {
   "codemirror_mode": {
    "name": "ipython",
    "version": 3
   },
   "file_extension": ".py",
   "mimetype": "text/x-python",
   "name": "python",
   "nbconvert_exporter": "python",
   "pygments_lexer": "ipython3",
   "version": "3.7.7-final"
  },
  "orig_nbformat": 2,
  "kernelspec": {
   "name": "python3",
   "display_name": "Python 3"
  }
 },
 "nbformat": 4,
 "nbformat_minor": 2
}